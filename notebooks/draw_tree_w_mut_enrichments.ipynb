{
 "cells": [
  {
   "cell_type": "markdown",
   "id": "8c55f429-625c-4791-8f2c-db9f5ec3fa5f",
   "metadata": {},
   "source": [
    "# Draw tree with tips having plots with enrichments of each mutation type\n",
    "\n",
    "The following cell is tagged parameters, and will be replaced by the [papermill](https://papermill.readthedocs.io/en/latest/) parameters when the notebook is actually run:"
   ]
  },
  {
   "cell_type": "code",
   "execution_count": 1,
   "id": "8d4695c4-ccfa-4027-bc0c-ae42415aaa11",
   "metadata": {
    "tags": [
     "parameters"
    ]
   },
   "outputs": [],
   "source": [
    "treefile = \"../results/clade_founder_tree/clade_founders.treefile\"\n",
    "rates_by_clade_csv = \"../results/synonymous_mut_rates/rates_by_clade.csv\"\n",
    "tree_image = \"../results/clade_founder_tree/tree_w_enrichments.png\""
   ]
  },
  {
   "cell_type": "markdown",
   "id": "78e77746-a789-4089-99fc-16cdb8fd36d1",
   "metadata": {},
   "source": [
    "Import Python modules:"
   ]
  },
  {
   "cell_type": "code",
   "execution_count": 11,
   "id": "82f16492-e0d6-4a16-b10e-520648fe16c4",
   "metadata": {},
   "outputs": [],
   "source": [
    "import os\n",
    "\n",
    "import ete3\n",
    "\n",
    "import matplotlib\n",
    "import matplotlib.pyplot as plt\n",
    "\n",
    "import numpy\n",
    "\n",
    "import yaml\n",
    "\n",
    "import pandas as pd"
   ]
  },
  {
   "cell_type": "markdown",
   "id": "6599a8d9-2209-410c-a987-356442acc800",
   "metadata": {},
   "source": [
    "Read some information from configuration:"
   ]
  },
  {
   "cell_type": "code",
   "execution_count": 3,
   "id": "60b6acce-ded9-45d0-b04d-0dae203d0306",
   "metadata": {},
   "outputs": [],
   "source": [
    "with open(\"config.yaml\" if os.path.isfile(\"config.yaml\") else \"../config.yaml\") as f:\n",
    "    config = yaml.safe_load(f)\n",
    "    \n",
    "clade_synonyms = config[\"clade_synonyms\"]"
   ]
  },
  {
   "cell_type": "markdown",
   "id": "3a291daa-fc46-4ed6-9141-e1e9b643c26c",
   "metadata": {},
   "source": [
    "Read the rates by clade, and also get list of all clades we are using:"
   ]
  },
  {
   "cell_type": "code",
   "execution_count": 4,
   "id": "1d623844-7525-48b9-971b-9038cf557ff2",
   "metadata": {},
   "outputs": [],
   "source": [
    "rates_by_clade = pd.read_csv(rates_by_clade_csv)\n",
    "\n",
    "clades = sorted(rates_by_clade[\"clade\"].unique())"
   ]
  },
  {
   "cell_type": "markdown",
   "id": "23fb939c-77a6-4514-98db-46c6d26800fc",
   "metadata": {},
   "source": [
    "Read the tree and do some formatting:"
   ]
  },
  {
   "cell_type": "code",
   "execution_count": 5,
   "id": "6eeb7d52-1b3d-426e-9646-dac60fade41d",
   "metadata": {},
   "outputs": [
    {
     "data": {
      "image/png": "[encoded data removed]",
      "text/plain": [
       "<IPython.core.display.Image object>"
      ]
     },
     "execution_count": 5,
     "metadata": {},
     "output_type": "execute_result"
    }
   ],
   "source": [
    "# read tree\n",
    "with open(treefile) as f:\n",
    "    newick_str = f.read()\n",
    "t = ete3.Tree(newick_str)\n",
    "\n",
    "# prune clades without rates\n",
    "t.prune(clades, preserve_branch_length=True)\n",
    "\n",
    "# set outgroup to first clade listed\n",
    "t.set_outgroup(clades[0])\n",
    "\n",
    "# ladderize the branches\n",
    "t.ladderize()\n",
    "\n",
    "t.render(\"%%inline\")"
   ]
  },
  {
   "cell_type": "markdown",
   "id": "21851674-207f-49b3-bfcf-7c42f84c7fd6",
   "metadata": {},
   "source": [
    "Plot clade enrichments and save to images we can incorporate in tree:"
   ]
  },
  {
   "cell_type": "code",
   "execution_count": 21,
   "id": "fe9fc7f7-4bc7-4567-a539-90c80aa92127",
   "metadata": {},
   "outputs": [
    {
     "name": "stdout",
     "output_type": "stream",
     "text": [
      "Writing plot for 20A to ../results/clade_founder_tree/enrichment_plots/20A.png\n",
      "Writing plot for 20B to ../results/clade_founder_tree/enrichment_plots/20B.png\n",
      "Writing plot for 20C to ../results/clade_founder_tree/enrichment_plots/20C.png\n",
      "Writing plot for 20E to ../results/clade_founder_tree/enrichment_plots/20E.png\n",
      "Writing plot for 20G to ../results/clade_founder_tree/enrichment_plots/20G.png\n",
      "Writing plot for 20I to ../results/clade_founder_tree/enrichment_plots/20I.png\n",
      "Writing plot for 21C to ../results/clade_founder_tree/enrichment_plots/21C.png\n",
      "Writing plot for 21I to ../results/clade_founder_tree/enrichment_plots/21I.png\n",
      "Writing plot for 21J to ../results/clade_founder_tree/enrichment_plots/21J.png\n",
      "Writing plot for 21K to ../results/clade_founder_tree/enrichment_plots/21K.png\n",
      "Writing plot for 21M to ../results/clade_founder_tree/enrichment_plots/21M.png\n",
      "Writing plot for 22A to ../results/clade_founder_tree/enrichment_plots/22A.png\n",
      "Writing plot for 22B to ../results/clade_founder_tree/enrichment_plots/22B.png\n",
      "Writing plot for 22C to ../results/clade_founder_tree/enrichment_plots/22C.png\n"
     ]
    }
   ],
   "source": [
    "rates_fold_change = (\n",
    "    rates_by_clade\n",
    "    [[\"clade\", \"mut_type\", \"rate\"]]\n",
    "    .merge(\n",
    "        rates_by_clade\n",
    "        .query(\"clade == @clades[0]\")\n",
    "        [[\"mut_type\", \"rate\"]]\n",
    "        .rename(columns={\"rate\": \"ref_rate\"})\n",
    "    )\n",
    "    .assign(diff_rate=lambda x: x[\"rate\"] - x[\"ref_rate\"])\n",
    ")\n",
    "\n",
    "# colors\n",
    "viridis = matplotlib.cm.get_cmap(\"viridis\", len(clades))\n",
    "\n",
    "output_dir = os.path.join(os.path.dirname(tree_image), \"enrichment_plots\")\n",
    "os.makedirs(output_dir, exist_ok=True)\n",
    "\n",
    "for clade, clade_fold_change in rates_fold_change.groupby(\"clade\"):\n",
    "    color = viridis(clades.index(clade) / (len(clades) - 1))\n",
    "    ax = clade_fold_change.plot(\n",
    "        x=\"mut_type\",\n",
    "        y=\"diff_rate\",\n",
    "        kind=\"bar\",\n",
    "        legend=False,\n",
    "        figsize=(3, 1),\n",
    "        xticks=[],\n",
    "        yticks=[],\n",
    "        xlabel=\"\",\n",
    "        ylim=(\n",
    "            rates_fold_change[\"diff_rate\"].min(), rates_fold_change[\"diff_rate\"].max(),\n",
    "        ),\n",
    "        width=0.8,\n",
    "        color=color,\n",
    "    )\n",
    "    ax.spines[\"bottom\"].set_position(\"zero\")\n",
    "    ax.spines[\"bottom\"].set_color(\"gray\")\n",
    "    ax.spines[\"bottom\"].set_linewidth(1)\n",
    "    ax.spines[\"top\"].set_color(\"none\")\n",
    "    ax.spines[\"right\"].set_color(\"none\")\n",
    "    ax.spines[\"left\"].set_color(\"none\")\n",
    "    ax.set_title(\n",
    "        f\"{clade} ({clade_synonyms[clade]})\",\n",
    "        fontdict={\"color\": color, \"fontweight\": \"bold\"},\n",
    "        loc=\"left\",\n",
    "    )\n",
    "    \n",
    "    fig = ax.get_figure()\n",
    "    \n",
    "    plotfile = os.path.join(output_dir, f\"{clade}.png\")\n",
    "    print(f\"Writing plot for {clade} to {plotfile}\")\n",
    "    fig.savefig(plotfile, dpi=720, bbox_inches=\"tight\")\n",
    "    \n",
    "    plt.close()"
   ]
  },
  {
   "cell_type": "code",
   "execution_count": 7,
   "id": "ad3ff3a3-8736-4411-bc47-decefacf214b",
   "metadata": {},
   "outputs": [
    {
     "data": {
      "text/plain": [
       "\u001b[0;31mSignature:\u001b[0m \u001b[0max\u001b[0m\u001b[0;34m.\u001b[0m\u001b[0mset_title\u001b[0m\u001b[0;34m(\u001b[0m\u001b[0mlabel\u001b[0m\u001b[0;34m,\u001b[0m \u001b[0mfontdict\u001b[0m\u001b[0;34m=\u001b[0m\u001b[0;32mNone\u001b[0m\u001b[0;34m,\u001b[0m \u001b[0mloc\u001b[0m\u001b[0;34m=\u001b[0m\u001b[0;32mNone\u001b[0m\u001b[0;34m,\u001b[0m \u001b[0mpad\u001b[0m\u001b[0;34m=\u001b[0m\u001b[0;32mNone\u001b[0m\u001b[0;34m,\u001b[0m \u001b[0;34m*\u001b[0m\u001b[0;34m,\u001b[0m \u001b[0my\u001b[0m\u001b[0;34m=\u001b[0m\u001b[0;32mNone\u001b[0m\u001b[0;34m,\u001b[0m \u001b[0;34m**\u001b[0m\u001b[0mkwargs\u001b[0m\u001b[0;34m)\u001b[0m\u001b[0;34m\u001b[0m\u001b[0;34m\u001b[0m\u001b[0m\n",
       "\u001b[0;31mDocstring:\u001b[0m\n",
       "Set a title for the Axes.\n",
       "\n",
       "Set one of the three available Axes titles. The available titles\n",
       "are positioned above the Axes in the center, flush with the left\n",
       "edge, and flush with the right edge.\n",
       "\n",
       "Parameters\n",
       "----------\n",
       "label : str\n",
       "    Text to use for the title\n",
       "\n",
       "fontdict : dict\n",
       "    A dictionary controlling the appearance of the title text,\n",
       "    the default *fontdict* is::\n",
       "\n",
       "       {'fontsize': rcParams['axes.titlesize'],\n",
       "        'fontweight': rcParams['axes.titleweight'],\n",
       "        'color': rcParams['axes.titlecolor'],\n",
       "        'verticalalignment': 'baseline',\n",
       "        'horizontalalignment': loc}\n",
       "\n",
       "loc : {'center', 'left', 'right'}, default: :rc:`axes.titlelocation`\n",
       "    Which title to set.\n",
       "\n",
       "y : float, default: :rc:`axes.titley`\n",
       "    Vertical Axes location for the title (1.0 is the top).  If\n",
       "    None (the default) and :rc:`axes.titley` is also None, y is\n",
       "    determined automatically to avoid decorators on the Axes.\n",
       "\n",
       "pad : float, default: :rc:`axes.titlepad`\n",
       "    The offset of the title from the top of the Axes, in points.\n",
       "\n",
       "Returns\n",
       "-------\n",
       "`.Text`\n",
       "    The matplotlib text instance representing the title\n",
       "\n",
       "Other Parameters\n",
       "----------------\n",
       "**kwargs : `.Text` properties\n",
       "    Other keyword arguments are text properties, see `.Text` for a list\n",
       "    of valid text properties.\n",
       "\u001b[0;31mFile:\u001b[0m      ~/miniconda3/envs/ete3/lib/python3.9/site-packages/matplotlib/axes/_axes.py\n",
       "\u001b[0;31mType:\u001b[0m      method\n"
      ]
     },
     "metadata": {},
     "output_type": "display_data"
    }
   ],
   "source": [
    "ax.set_title?"
   ]
  },
  {
   "cell_type": "code",
   "execution_count": 8,
   "id": "642aa355-c58b-478f-8862-075b11647ce4",
   "metadata": {},
   "outputs": [
    {
     "data": {
      "text/plain": [
       "\u001b[0;31mInit signature:\u001b[0m \u001b[0mpd\u001b[0m\u001b[0;34m.\u001b[0m\u001b[0mDataFrame\u001b[0m\u001b[0;34m.\u001b[0m\u001b[0mplot\u001b[0m\u001b[0;34m(\u001b[0m\u001b[0mdata\u001b[0m\u001b[0;34m)\u001b[0m\u001b[0;34m\u001b[0m\u001b[0;34m\u001b[0m\u001b[0m\n",
       "\u001b[0;31mDocstring:\u001b[0m     \n",
       "Make plots of Series or DataFrame.\n",
       "\n",
       "Uses the backend specified by the\n",
       "option ``plotting.backend``. By default, matplotlib is used.\n",
       "\n",
       "Parameters\n",
       "----------\n",
       "data : Series or DataFrame\n",
       "    The object for which the method is called.\n",
       "x : label or position, default None\n",
       "    Only used if data is a DataFrame.\n",
       "y : label, position or list of label, positions, default None\n",
       "    Allows plotting of one column versus another. Only used if data is a\n",
       "    DataFrame.\n",
       "kind : str\n",
       "    The kind of plot to produce:\n",
       "\n",
       "    - 'line' : line plot (default)\n",
       "    - 'bar' : vertical bar plot\n",
       "    - 'barh' : horizontal bar plot\n",
       "    - 'hist' : histogram\n",
       "    - 'box' : boxplot\n",
       "    - 'kde' : Kernel Density Estimation plot\n",
       "    - 'density' : same as 'kde'\n",
       "    - 'area' : area plot\n",
       "    - 'pie' : pie plot\n",
       "    - 'scatter' : scatter plot (DataFrame only)\n",
       "    - 'hexbin' : hexbin plot (DataFrame only)\n",
       "ax : matplotlib axes object, default None\n",
       "    An axes of the current figure.\n",
       "subplots : bool, default False\n",
       "    Make separate subplots for each column.\n",
       "sharex : bool, default True if ax is None else False\n",
       "    In case ``subplots=True``, share x axis and set some x axis labels\n",
       "    to invisible; defaults to True if ax is None otherwise False if\n",
       "    an ax is passed in; Be aware, that passing in both an ax and\n",
       "    ``sharex=True`` will alter all x axis labels for all axis in a figure.\n",
       "sharey : bool, default False\n",
       "    In case ``subplots=True``, share y axis and set some y axis labels to invisible.\n",
       "layout : tuple, optional\n",
       "    (rows, columns) for the layout of subplots.\n",
       "figsize : a tuple (width, height) in inches\n",
       "    Size of a figure object.\n",
       "use_index : bool, default True\n",
       "    Use index as ticks for x axis.\n",
       "title : str or list\n",
       "    Title to use for the plot. If a string is passed, print the string\n",
       "    at the top of the figure. If a list is passed and `subplots` is\n",
       "    True, print each item in the list above the corresponding subplot.\n",
       "grid : bool, default None (matlab style default)\n",
       "    Axis grid lines.\n",
       "legend : bool or {'reverse'}\n",
       "    Place legend on axis subplots.\n",
       "style : list or dict\n",
       "    The matplotlib line style per column.\n",
       "logx : bool or 'sym', default False\n",
       "    Use log scaling or symlog scaling on x axis.\n",
       "    .. versionchanged:: 0.25.0\n",
       "\n",
       "logy : bool or 'sym' default False\n",
       "    Use log scaling or symlog scaling on y axis.\n",
       "    .. versionchanged:: 0.25.0\n",
       "\n",
       "loglog : bool or 'sym', default False\n",
       "    Use log scaling or symlog scaling on both x and y axes.\n",
       "    .. versionchanged:: 0.25.0\n",
       "\n",
       "xticks : sequence\n",
       "    Values to use for the xticks.\n",
       "yticks : sequence\n",
       "    Values to use for the yticks.\n",
       "xlim : 2-tuple/list\n",
       "    Set the x limits of the current axes.\n",
       "ylim : 2-tuple/list\n",
       "    Set the y limits of the current axes.\n",
       "xlabel : label, optional\n",
       "    Name to use for the xlabel on x-axis. Default uses index name as xlabel, or the\n",
       "    x-column name for planar plots.\n",
       "\n",
       "    .. versionadded:: 1.1.0\n",
       "\n",
       "    .. versionchanged:: 1.2.0\n",
       "\n",
       "       Now applicable to planar plots (`scatter`, `hexbin`).\n",
       "\n",
       "ylabel : label, optional\n",
       "    Name to use for the ylabel on y-axis. Default will show no ylabel, or the\n",
       "    y-column name for planar plots.\n",
       "\n",
       "    .. versionadded:: 1.1.0\n",
       "\n",
       "    .. versionchanged:: 1.2.0\n",
       "\n",
       "       Now applicable to planar plots (`scatter`, `hexbin`).\n",
       "\n",
       "rot : int, default None\n",
       "    Rotation for ticks (xticks for vertical, yticks for horizontal\n",
       "    plots).\n",
       "fontsize : int, default None\n",
       "    Font size for xticks and yticks.\n",
       "colormap : str or matplotlib colormap object, default None\n",
       "    Colormap to select colors from. If string, load colormap with that\n",
       "    name from matplotlib.\n",
       "colorbar : bool, optional\n",
       "    If True, plot colorbar (only relevant for 'scatter' and 'hexbin'\n",
       "    plots).\n",
       "position : float\n",
       "    Specify relative alignments for bar plot layout.\n",
       "    From 0 (left/bottom-end) to 1 (right/top-end). Default is 0.5\n",
       "    (center).\n",
       "table : bool, Series or DataFrame, default False\n",
       "    If True, draw a table using the data in the DataFrame and the data\n",
       "    will be transposed to meet matplotlib's default layout.\n",
       "    If a Series or DataFrame is passed, use passed data to draw a\n",
       "    table.\n",
       "yerr : DataFrame, Series, array-like, dict and str\n",
       "    See :ref:`Plotting with Error Bars <visualization.errorbars>` for\n",
       "    detail.\n",
       "xerr : DataFrame, Series, array-like, dict and str\n",
       "    Equivalent to yerr.\n",
       "stacked : bool, default False in line and bar plots, and True in area plot\n",
       "    If True, create stacked plot.\n",
       "sort_columns : bool, default False\n",
       "    Sort column names to determine plot ordering.\n",
       "secondary_y : bool or sequence, default False\n",
       "    Whether to plot on the secondary y-axis if a list/tuple, which\n",
       "    columns to plot on secondary y-axis.\n",
       "mark_right : bool, default True\n",
       "    When using a secondary_y axis, automatically mark the column\n",
       "    labels with \"(right)\" in the legend.\n",
       "include_bool : bool, default is False\n",
       "    If True, boolean values can be plotted.\n",
       "backend : str, default None\n",
       "    Backend to use instead of the backend specified in the option\n",
       "    ``plotting.backend``. For instance, 'matplotlib'. Alternatively, to\n",
       "    specify the ``plotting.backend`` for the whole session, set\n",
       "    ``pd.options.plotting.backend``.\n",
       "\n",
       "    .. versionadded:: 1.0.0\n",
       "\n",
       "**kwargs\n",
       "    Options to pass to matplotlib plotting method.\n",
       "\n",
       "Returns\n",
       "-------\n",
       ":class:`matplotlib.axes.Axes` or numpy.ndarray of them\n",
       "    If the backend is not the default matplotlib one, the return value\n",
       "    will be the object returned by the backend.\n",
       "\n",
       "Notes\n",
       "-----\n",
       "- See matplotlib documentation online for more on this subject\n",
       "- If `kind` = 'bar' or 'barh', you can specify relative alignments\n",
       "  for bar plot layout by `position` keyword.\n",
       "  From 0 (left/bottom-end) to 1 (right/top-end). Default is 0.5\n",
       "  (center)\n",
       "\u001b[0;31mFile:\u001b[0m           ~/miniconda3/envs/ete3/lib/python3.9/site-packages/pandas/plotting/_core.py\n",
       "\u001b[0;31mType:\u001b[0m           type\n",
       "\u001b[0;31mSubclasses:\u001b[0m     \n"
      ]
     },
     "metadata": {},
     "output_type": "display_data"
    }
   ],
   "source": [
    "?pd.DataFrame.plot"
   ]
  },
  {
   "cell_type": "code",
   "execution_count": null,
   "id": "287773af-76ce-4aa1-bc13-94b8ec832442",
   "metadata": {},
   "outputs": [],
   "source": []
  }
 ],
 "metadata": {
  "kernelspec": {
   "display_name": "Python 3 (ipykernel)",
   "language": "python",
   "name": "python3"
  },
  "language_info": {
   "codemirror_mode": {
    "name": "ipython",
    "version": 3
   },
   "file_extension": ".py",
   "mimetype": "text/x-python",
   "name": "python",
   "nbconvert_exporter": "python",
   "pygments_lexer": "ipython3",
   "version": "3.9.13"
  }
 },
 "nbformat": 4,
 "nbformat_minor": 5
}
