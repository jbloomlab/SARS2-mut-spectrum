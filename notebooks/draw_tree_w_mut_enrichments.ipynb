{
 "cells": [
  {
   "cell_type": "markdown",
   "id": "8c55f429-625c-4791-8f2c-db9f5ec3fa5f",
   "metadata": {},
   "source": [
    "# Draw tree with tips having plots with enrichments of each mutation type\n",
    "\n",
    "The following cell is tagged parameters, and will be replaced by the [papermill](https://papermill.readthedocs.io/en/latest/) parameters when the notebook is actually run:"
   ]
  },
  {
   "cell_type": "code",
   "execution_count": null,
   "id": "8d4695c4-ccfa-4027-bc0c-ae42415aaa11",
   "metadata": {
    "tags": [
     "parameters"
    ]
   },
   "outputs": [],
   "source": [
    "treefile = \"../results/clade_founder_tree/clade_founders.treefile\"\n",
    "rates_by_clade_csv = \"../results/synonymous_mut_rates/rates_by_clade.csv\"\n",
    "tree_image = \"../results/clade_founder_tree/tree_w_enrichments.png\""
   ]
  },
  {
   "cell_type": "markdown",
   "id": "78e77746-a789-4089-99fc-16cdb8fd36d1",
   "metadata": {},
   "source": [
    "Import Python modules:"
   ]
  },
  {
   "cell_type": "code",
   "execution_count": null,
   "id": "82f16492-e0d6-4a16-b10e-520648fe16c4",
   "metadata": {},
   "outputs": [],
   "source": [
    "import os\n",
    "\n",
    "import ete3\n",
    "\n",
    "import matplotlib\n",
    "import matplotlib.pyplot as plt\n",
    "\n",
    "import numpy\n",
    "\n",
    "import yaml\n",
    "\n",
    "import pandas as pd"
   ]
  },
  {
   "cell_type": "markdown",
   "id": "6599a8d9-2209-410c-a987-356442acc800",
   "metadata": {},
   "source": [
    "Read some information from configuration:"
   ]
  },
  {
   "cell_type": "code",
   "execution_count": null,
   "id": "60b6acce-ded9-45d0-b04d-0dae203d0306",
   "metadata": {},
   "outputs": [],
   "source": [
    "with open(\"config.yaml\" if os.path.isfile(\"config.yaml\") else \"../config.yaml\") as f:\n",
    "    config = yaml.safe_load(f)\n",
    "    \n",
    "clade_synonyms = config[\"clade_synonyms\"]"
   ]
  },
  {
   "cell_type": "markdown",
   "id": "3a291daa-fc46-4ed6-9141-e1e9b643c26c",
   "metadata": {},
   "source": [
    "Read the rates by clade, and also get list of all clades we are using:"
   ]
  },
  {
   "cell_type": "code",
   "execution_count": null,
   "id": "1d623844-7525-48b9-971b-9038cf557ff2",
   "metadata": {},
   "outputs": [],
   "source": [
    "rates_by_clade = pd.read_csv(rates_by_clade_csv)\n",
    "\n",
    "clades = sorted(rates_by_clade[\"clade\"].unique())"
   ]
  },
  {
   "cell_type": "markdown",
   "id": "23fb939c-77a6-4514-98db-46c6d26800fc",
   "metadata": {},
   "source": [
    "Read the tree and do some formatting:"
   ]
  },
  {
   "cell_type": "code",
   "execution_count": null,
   "id": "6eeb7d52-1b3d-426e-9646-dac60fade41d",
   "metadata": {},
   "outputs": [],
   "source": [
    "# read tree\n",
    "with open(treefile) as f:\n",
    "    newick_str = f.read()\n",
    "t = ete3.Tree(newick_str)\n",
    "\n",
    "# prune clades without rates\n",
    "t.prune(clades, preserve_branch_length=True)\n",
    "\n",
    "# set outgroup to first clade listed\n",
    "t.set_outgroup(clades[0])\n",
    "\n",
    "# ladderize the branches\n",
    "t.ladderize()\n",
    "\n",
    "t.render(\"%%inline\")"
   ]
  },
  {
   "cell_type": "markdown",
   "id": "21851674-207f-49b3-bfcf-7c42f84c7fd6",
   "metadata": {},
   "source": [
    "Plot clade enrichments and save to images we can incorporate in tree:"
   ]
  },
  {
   "cell_type": "code",
   "execution_count": null,
   "id": "fe9fc7f7-4bc7-4567-a539-90c80aa92127",
   "metadata": {},
   "outputs": [],
   "source": [
    "rates_fold_change = (\n",
    "    rates_by_clade\n",
    "    [[\"clade\", \"mut_type\", \"rate\"]]\n",
    "    .merge(\n",
    "        rates_by_clade\n",
    "        .query(\"clade == @clades[0]\")\n",
    "        [[\"mut_type\", \"rate\"]]\n",
    "        .rename(columns={\"rate\": \"ref_rate\"})\n",
    "    )\n",
    "    .assign(diff_rate=lambda x: x[\"rate\"] - x[\"ref_rate\"])\n",
    ")\n",
    "\n",
    "# colors\n",
    "viridis = matplotlib.cm.get_cmap(\"viridis\", len(clades))\n",
    "clade_colors = {\n",
    "    clade: viridis(clades.index(clade) / (len(clades) - 1))\n",
    "    for clade in clades\n",
    "}\n",
    "\n",
    "output_dir = os.path.join(os.path.dirname(tree_image), \"enrichment_plots\")\n",
    "os.makedirs(output_dir, exist_ok=True)\n",
    "\n",
    "clade_images = {}\n",
    "\n",
    "for clade, clade_fold_change in rates_fold_change.groupby(\"clade\"):\n",
    "    ax = clade_fold_change.plot(\n",
    "        x=\"mut_type\",\n",
    "        y=\"diff_rate\",\n",
    "        kind=\"bar\",\n",
    "        legend=False,\n",
    "        figsize=(3, 0.8),\n",
    "        xticks=[],\n",
    "        yticks=[],\n",
    "        xlabel=\"\",\n",
    "        ylim=(\n",
    "            rates_fold_change[\"diff_rate\"].min(), rates_fold_change[\"diff_rate\"].max(),\n",
    "        ),\n",
    "        width=0.8,\n",
    "        color=clade_colors[clade],\n",
    "    )\n",
    "    ax.spines[\"bottom\"].set_position(\"zero\")\n",
    "    ax.spines[\"bottom\"].set_color(\"gray\")\n",
    "    ax.spines[\"bottom\"].set_linewidth(1)\n",
    "    ax.spines[\"top\"].set_color(\"none\")\n",
    "    ax.spines[\"right\"].set_color(\"none\")\n",
    "    ax.spines[\"left\"].set_color(\"none\")\n",
    "    ax.set_title(\n",
    "        f\"{clade} ({clade_synonyms[clade]})\",\n",
    "        fontdict={\n",
    "        #    \"color\": clade_colors[clade],\n",
    "            \"fontweight\": \"bold\",\n",
    "        },\n",
    "        loc=\"left\",\n",
    "    )\n",
    "    \n",
    "    fig = ax.get_figure()\n",
    "    fig.set_linewidth(3)\n",
    "    \n",
    "    plotfile = os.path.join(output_dir, f\"{clade}.png\")\n",
    "    print(f\"Writing plot for {clade} to {plotfile}\")\n",
    "    fig.savefig(plotfile, dpi=720, bbox_inches=\"tight\", edgecolor=clade_colors[clade])\n",
    "    clade_images[clade] = plotfile\n",
    "    \n",
    "    plt.close()"
   ]
  },
  {
   "cell_type": "markdown",
   "id": "e7669f6c-461c-469f-a2cd-56a83b80ddf2",
   "metadata": {},
   "source": [
    "Now create a layout function:"
   ]
  },
  {
   "cell_type": "code",
   "execution_count": null,
   "id": "642aa355-c58b-478f-8862-075b11647ce4",
   "metadata": {},
   "outputs": [],
   "source": [
    "clade_img_height = 500\n",
    "\n",
    "def clade_image_layout(node):\n",
    "    ns = ete3.NodeStyle()\n",
    "    ns[\"hz_line_width\"] = ns[\"vt_line_width\"] = 0.04 * clade_img_height\n",
    "    node.set_style(ns)\n",
    "    if node.is_leaf():\n",
    "        ete3.faces.add_face_to_node(\n",
    "            ete3.faces.ImgFace(clade_images[node.name], height=clade_img_height),\n",
    "            node,\n",
    "            column=0,\n",
    "        )\n",
    "        node.img_style[\"size\"] = clade_img_height / 8\n",
    "        node.img_style[\"fgcolor\"] = matplotlib.colors.rgb2hex(\n",
    "            clade_colors[node.name]\n",
    "        )\n",
    "    else:\n",
    "        node.img_style[\"size\"] = 0\n",
    "        \n",
    "ts = ete3.TreeStyle()\n",
    "ts.show_leaf_name = False\n",
    "ts.layout_fn = clade_image_layout\n",
    "ts.scale = 2500 * clade_img_height\n",
    "ts.branch_vertical_margin = 0.05 * clade_img_height\n",
    "ts.margin_left = ts.margin_right = ts.margin_top = 0.05 * clade_img_height\n",
    "ts.scale_length = 0.001\n",
    "\n",
    "_ = t.render(\n",
    "    tree_image,\n",
    "    tree_style=ts,\n",
    "    dpi=1440,\n",
    "    h=clade_img_height * len(clades) * 1.1,\n",
    ")"
   ]
  }
 ],
 "metadata": {
  "kernelspec": {
   "display_name": "Python 3 (ipykernel)",
   "language": "python",
   "name": "python3"
  },
  "language_info": {
   "codemirror_mode": {
    "name": "ipython",
    "version": 3
   },
   "file_extension": ".py",
   "mimetype": "text/x-python",
   "name": "python",
   "nbconvert_exporter": "python",
   "pygments_lexer": "ipython3",
   "version": "3.9.13"
  }
 },
 "nbformat": 4,
 "nbformat_minor": 5
}
