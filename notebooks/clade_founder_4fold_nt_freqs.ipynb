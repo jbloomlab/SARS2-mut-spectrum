{
 "cells": [
  {
   "cell_type": "markdown",
   "id": "d6724c86-163d-434e-b7f6-c896b01a16a0",
   "metadata": {},
   "source": [
    "# Plot frequencies of clade founders at 4-fold degenerate sites"
   ]
  },
  {
   "cell_type": "code",
   "execution_count": 1,
   "id": "bd178389-a4a9-4eb1-8b5e-53f346ed0d84",
   "metadata": {},
   "outputs": [],
   "source": [
    "clade_founder_nts_csv = \"results/clade_founder_nts/clade_founder_nts.csv\""
   ]
  },
  {
   "cell_type": "code",
   "execution_count": 2,
   "id": "39c6ee46-ec48-45b4-b113-9b7ae042cb7d",
   "metadata": {},
   "outputs": [],
   "source": [
    "import os\n",
    "\n",
    "import altair as alt\n",
    "\n",
    "import pandas as pd\n",
    "\n",
    "import yaml"
   ]
  },
  {
   "cell_type": "code",
   "execution_count": 3,
   "id": "4f913ac1-fcf2-425f-abfc-5f503cd7ab3f",
   "metadata": {},
   "outputs": [],
   "source": [
    "with open(\"config.yaml\") as f:\n",
    "    config = yaml.safe_load(f)\n",
    "    \n",
    "clade_synonyms = config[\"clade_synonyms\"]"
   ]
  },
  {
   "cell_type": "code",
   "execution_count": 4,
   "id": "0bbea457-49d4-4943-b2e0-4e4ce8826f4e",
   "metadata": {},
   "outputs": [
    {
     "data": {
      "text/html": [
       "\n",
       "<div id=\"altair-viz-bf4bb54d90e44a2e8d64c5413622bcf8\"></div>\n",
       "<script type=\"text/javascript\">\n",
       "  var VEGA_DEBUG = (typeof VEGA_DEBUG == \"undefined\") ? {} : VEGA_DEBUG;\n",
       "  (function(spec, embedOpt){\n",
       "    let outputDiv = document.currentScript.previousElementSibling;\n",
       "    if (outputDiv.id !== \"altair-viz-bf4bb54d90e44a2e8d64c5413622bcf8\") {\n",
       "      outputDiv = document.getElementById(\"altair-viz-bf4bb54d90e44a2e8d64c5413622bcf8\");\n",
       "    }\n",
       "    const paths = {\n",
       "      \"vega\": \"https://cdn.jsdelivr.net/npm//vega@5?noext\",\n",
       "      \"vega-lib\": \"https://cdn.jsdelivr.net/npm//vega-lib?noext\",\n",
       "      \"vega-lite\": \"https://cdn.jsdelivr.net/npm//vega-lite@4.17.0?noext\",\n",
       "      \"vega-embed\": \"https://cdn.jsdelivr.net/npm//vega-embed@6?noext\",\n",
       "    };\n",
       "\n",
       "    function maybeLoadScript(lib, version) {\n",
       "      var key = `${lib.replace(\"-\", \"\")}_version`;\n",
       "      return (VEGA_DEBUG[key] == version) ?\n",
       "        Promise.resolve(paths[lib]) :\n",
       "        new Promise(function(resolve, reject) {\n",
       "          var s = document.createElement('script');\n",
       "          document.getElementsByTagName(\"head\")[0].appendChild(s);\n",
       "          s.async = true;\n",
       "          s.onload = () => {\n",
       "            VEGA_DEBUG[key] = version;\n",
       "            return resolve(paths[lib]);\n",
       "          };\n",
       "          s.onerror = () => reject(`Error loading script: ${paths[lib]}`);\n",
       "          s.src = paths[lib];\n",
       "        });\n",
       "    }\n",
       "\n",
       "    function showError(err) {\n",
       "      outputDiv.innerHTML = `<div class=\"error\" style=\"color:red;\">${err}</div>`;\n",
       "      throw err;\n",
       "    }\n",
       "\n",
       "    function displayChart(vegaEmbed) {\n",
       "      vegaEmbed(outputDiv, spec, embedOpt)\n",
       "        .catch(err => showError(`Javascript Error: ${err.message}<br>This usually means there's a typo in your chart specification. See the javascript console for the full traceback.`));\n",
       "    }\n",
       "\n",
       "    if(typeof define === \"function\" && define.amd) {\n",
       "      requirejs.config({paths});\n",
       "      require([\"vega-embed\"], displayChart, err => showError(`Error loading script: ${err.message}`));\n",
       "    } else {\n",
       "      maybeLoadScript(\"vega\", \"5\")\n",
       "        .then(() => maybeLoadScript(\"vega-lite\", \"4.17.0\"))\n",
       "        .then(() => maybeLoadScript(\"vega-embed\", \"6\"))\n",
       "        .catch(showError)\n",
       "        .then(() => displayChart(vegaEmbed));\n",
       "    }\n",
       "  })({\"config\": {\"view\": {\"continuousWidth\": 400, \"continuousHeight\": 300}}, \"data\": {\"name\": \"data-5f4735019a7ea603698893985a336e4e\"}, \"mark\": \"bar\", \"encoding\": {\"color\": {\"field\": \"nt\", \"title\": \"nucleotide\", \"type\": \"nominal\"}, \"tooltip\": [{\"field\": \"clade\", \"type\": \"nominal\"}, {\"field\": \"nt\", \"type\": \"nominal\"}, {\"field\": \"count\", \"type\": \"quantitative\"}, {\"field\": \"frac\", \"type\": \"quantitative\"}], \"x\": {\"field\": \"frac\", \"title\": \"fraction of 4-fold degenerate sites\", \"type\": \"quantitative\"}, \"y\": {\"field\": \"clade\", \"title\": null, \"type\": \"nominal\"}}, \"width\": 250, \"$schema\": \"https://vega.github.io/schema/vega-lite/v4.17.0.json\", \"datasets\": {\"data-5f4735019a7ea603698893985a336e4e\": [{\"clade\": \"20A (B.1)\", \"nt\": \"A\", \"count\": 1230, \"frac\": 0.28961619967035557}, {\"clade\": \"20A (B.1)\", \"nt\": \"C\", \"count\": 582, \"frac\": 0.1370379091123146}, {\"clade\": \"20A (B.1)\", \"nt\": \"G\", \"count\": 276, \"frac\": 0.06498704968212857}, {\"clade\": \"20A (B.1)\", \"nt\": \"T\", \"count\": 2159, \"frac\": 0.5083588415352013}, {\"clade\": \"20B (B.1.1)\", \"nt\": \"A\", \"count\": 1230, \"frac\": 0.28961619967035557}, {\"clade\": \"20B (B.1.1)\", \"nt\": \"C\", \"count\": 582, \"frac\": 0.1370379091123146}, {\"clade\": \"20B (B.1.1)\", \"nt\": \"G\", \"count\": 276, \"frac\": 0.06498704968212857}, {\"clade\": \"20B (B.1.1)\", \"nt\": \"T\", \"count\": 2159, \"frac\": 0.5083588415352013}, {\"clade\": \"20C (B.1.367)\", \"nt\": \"A\", \"count\": 1230, \"frac\": 0.2896844088553933}, {\"clade\": \"20C (B.1.367)\", \"nt\": \"C\", \"count\": 581, \"frac\": 0.1368346679227508}, {\"clade\": \"20C (B.1.367)\", \"nt\": \"G\", \"count\": 276, \"frac\": 0.06500235515779557}, {\"clade\": \"20C (B.1.367)\", \"nt\": \"T\", \"count\": 2159, \"frac\": 0.5084785680640603}, {\"clade\": \"20E (B.1.177)\", \"nt\": \"A\", \"count\": 1229, \"frac\": 0.2894488930758361}, {\"clade\": \"20E (B.1.177)\", \"nt\": \"C\", \"count\": 582, \"frac\": 0.13707018370230806}, {\"clade\": \"20E (B.1.177)\", \"nt\": \"G\", \"count\": 276, \"frac\": 0.06500235515779557}, {\"clade\": \"20E (B.1.177)\", \"nt\": \"T\", \"count\": 2159, \"frac\": 0.5084785680640603}, {\"clade\": \"20G (B.1.2)\", \"nt\": \"A\", \"count\": 1229, \"frac\": 0.2896535470186189}, {\"clade\": \"20G (B.1.2)\", \"nt\": \"C\", \"count\": 580, \"frac\": 0.13669573415036532}, {\"clade\": \"20G (B.1.2)\", \"nt\": \"G\", \"count\": 276, \"frac\": 0.06504831487155315}, {\"clade\": \"20G (B.1.2)\", \"nt\": \"T\", \"count\": 2158, \"frac\": 0.5086024039594627}, {\"clade\": \"20I (Alpha)\", \"nt\": \"A\", \"count\": 1231, \"frac\": 0.2901249116191374}, {\"clade\": \"20I (Alpha)\", \"nt\": \"C\", \"count\": 581, \"frac\": 0.13693141645062457}, {\"clade\": \"20I (Alpha)\", \"nt\": \"G\", \"count\": 276, \"frac\": 0.06504831487155315}, {\"clade\": \"20I (Alpha)\", \"nt\": \"T\", \"count\": 2155, \"frac\": 0.5078953570586849}, {\"clade\": \"21C (Epsilon)\", \"nt\": \"A\", \"count\": 1230, \"frac\": 0.28975265017667845}, {\"clade\": \"21C (Epsilon)\", \"nt\": \"C\", \"count\": 581, \"frac\": 0.13686690223792697}, {\"clade\": \"21C (Epsilon)\", \"nt\": \"G\", \"count\": 276, \"frac\": 0.06501766784452297}, {\"clade\": \"21C (Epsilon)\", \"nt\": \"T\", \"count\": 2158, \"frac\": 0.5083627797408716}, {\"clade\": \"21I (Delta)\", \"nt\": \"A\", \"count\": 1224, \"frac\": 0.28861117660929025}, {\"clade\": \"21I (Delta)\", \"nt\": \"C\", \"count\": 584, \"frac\": 0.13770337184626266}, {\"clade\": \"21I (Delta)\", \"nt\": \"G\", \"count\": 277, \"frac\": 0.06531478424899788}, {\"clade\": \"21I (Delta)\", \"nt\": \"T\", \"count\": 2156, \"frac\": 0.5083706672954492}, {\"clade\": \"21J (Delta)\", \"nt\": \"A\", \"count\": 1224, \"frac\": 0.28874734607218683}, {\"clade\": \"21J (Delta)\", \"nt\": \"C\", \"count\": 583, \"frac\": 0.13753243689549421}, {\"clade\": \"21J (Delta)\", \"nt\": \"G\", \"count\": 277, \"frac\": 0.06534560037744751}, {\"clade\": \"21J (Delta)\", \"nt\": \"T\", \"count\": 2155, \"frac\": 0.5083746166548714}, {\"clade\": \"21K (Omicron BA.1)\", \"nt\": \"A\", \"count\": 1230, \"frac\": 0.29002593727894366}, {\"clade\": \"21K (Omicron BA.1)\", \"nt\": \"C\", \"count\": 579, \"frac\": 0.13652440462155152}, {\"clade\": \"21K (Omicron BA.1)\", \"nt\": \"G\", \"count\": 278, \"frac\": 0.06555057769394011}, {\"clade\": \"21K (Omicron BA.1)\", \"nt\": \"T\", \"count\": 2154, \"frac\": 0.5078990804055648}, {\"clade\": \"21L (Omicron BA.2)\", \"nt\": \"A\", \"count\": 1229, \"frac\": 0.29020070838252654}, {\"clade\": \"21L (Omicron BA.2)\", \"nt\": \"C\", \"count\": 576, \"frac\": 0.1360094451003542}, {\"clade\": \"21L (Omicron BA.2)\", \"nt\": \"G\", \"count\": 278, \"frac\": 0.06564344746162928}, {\"clade\": \"21L (Omicron BA.2)\", \"nt\": \"T\", \"count\": 2152, \"frac\": 0.50814639905549}, {\"clade\": \"22A (Omicron BA.4)\", \"nt\": \"A\", \"count\": 1228, \"frac\": 0.2898961284230406}, {\"clade\": \"22A (Omicron BA.4)\", \"nt\": \"C\", \"count\": 576, \"frac\": 0.1359773371104816}, {\"clade\": \"22A (Omicron BA.4)\", \"nt\": \"G\", \"count\": 278, \"frac\": 0.06562795089707271}, {\"clade\": \"22A (Omicron BA.4)\", \"nt\": \"T\", \"count\": 2154, \"frac\": 0.5084985835694051}, {\"clade\": \"22B (Omicron BA.5)\", \"nt\": \"A\", \"count\": 1228, \"frac\": 0.2900330656589514}, {\"clade\": \"22B (Omicron BA.5)\", \"nt\": \"C\", \"count\": 575, \"frac\": 0.1358053849787435}, {\"clade\": \"22B (Omicron BA.5)\", \"nt\": \"G\", \"count\": 277, \"frac\": 0.06542276806802079}, {\"clade\": \"22B (Omicron BA.5)\", \"nt\": \"T\", \"count\": 2154, \"frac\": 0.5087387812942844}, {\"clade\": \"22C (Omicron BA.2.12.1)\", \"nt\": \"A\", \"count\": 1228, \"frac\": 0.29010158280179543}, {\"clade\": \"22C (Omicron BA.2.12.1)\", \"nt\": \"C\", \"count\": 576, \"frac\": 0.13607370659107015}, {\"clade\": \"22C (Omicron BA.2.12.1)\", \"nt\": \"G\", \"count\": 277, \"frac\": 0.06543822348216395}, {\"clade\": \"22C (Omicron BA.2.12.1)\", \"nt\": \"T\", \"count\": 2152, \"frac\": 0.5083864871249705}]}}, {\"mode\": \"vega-lite\"});\n",
       "</script>"
      ],
      "text/plain": [
       "alt.Chart(...)"
      ]
     },
     "execution_count": 4,
     "metadata": {},
     "output_type": "execute_result"
    }
   ],
   "source": [
    "df = (\n",
    "    pd.read_csv(clade_founder_nts_csv, low_memory=False)\n",
    "    .query(\"clade in @clade_synonyms\")\n",
    "    .query(\"four_fold_degenerate\")\n",
    "    .assign(clade=lambda x: x[\"clade\"] + \" (\" + x[\"clade\"].map(clade_synonyms) + \")\")\n",
    "    .groupby([\"clade\", \"nt\"], as_index=False)\n",
    "    .aggregate(count=pd.NamedAgg(\"nt\", \"count\"))\n",
    "    .assign(frac=lambda x: x[\"count\"] / x.groupby(\"clade\")[\"count\"].transform(\"sum\"))\n",
    ")\n",
    "\n",
    "chart = (\n",
    "    alt.Chart(df)\n",
    "    .encode(\n",
    "        x=alt.X(\"frac\", title=\"fraction of 4-fold degenerate sites\"),\n",
    "        y=alt.Y(\"clade\", title=None),\n",
    "        color=alt.Color(\"nt\", title=\"nucleotide\"),\n",
    "        tooltip=df.columns.tolist(),\n",
    "    )\n",
    "    .mark_bar()\n",
    "    .properties(width=250)\n",
    ")\n",
    "\n",
    "chart.save(os.path.join(os.path.dirname(clade_founder_nts_csv), \"nucleotide_freqs.html\"))\n",
    "\n",
    "chart"
   ]
  },
  {
   "cell_type": "code",
   "execution_count": null,
   "id": "d8c9a59a-639d-4acf-b449-56731a911558",
   "metadata": {},
   "outputs": [],
   "source": []
  }
 ],
 "metadata": {
  "kernelspec": {
   "display_name": "Python 3 (ipykernel)",
   "language": "python",
   "name": "python3"
  },
  "language_info": {
   "codemirror_mode": {
    "name": "ipython",
    "version": 3
   },
   "file_extension": ".py",
   "mimetype": "text/x-python",
   "name": "python",
   "nbconvert_exporter": "python",
   "pygments_lexer": "ipython3",
   "version": "3.9.13"
  }
 },
 "nbformat": 4,
 "nbformat_minor": 5
}
