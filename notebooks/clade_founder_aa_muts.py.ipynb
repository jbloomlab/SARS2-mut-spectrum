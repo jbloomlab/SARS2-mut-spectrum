{
 "cells": [
  {
   "cell_type": "markdown",
   "id": "4b0d4356-4f56-48fb-9c76-cb71991d087c",
   "metadata": {},
   "source": [
    "# Get amino-acid mutations in clade founders"
   ]
  },
  {
   "cell_type": "code",
   "execution_count": null,
   "id": "568e5c04-c31c-47b3-bc5f-4fc5e9348283",
   "metadata": {
    "tags": []
   },
   "outputs": [],
   "source": [
    "# input files\n",
    "clade_founder_nts_csv = \"results/clade_founder_nts/clade_founder_nts.csv\"\n",
    "rates_by_clade_csv = \"results/synonymous_mut_rates/rates_by_clade.csv\"\n",
    "\n",
    "# output file\n",
    "output_csv = \"results/clade_founder_aa_muts/clade_founder_aa_muts.csv\""
   ]
  },
  {
   "cell_type": "code",
   "execution_count": null,
   "id": "8139ee45-5cae-434e-a5e8-d4226f154753",
   "metadata": {
    "tags": []
   },
   "outputs": [],
   "source": [
    "import itertools\n",
    "import os\n",
    "\n",
    "import altair as alt\n",
    "\n",
    "import Bio.Seq\n",
    "import Bio.SeqIO\n",
    "\n",
    "import pandas as pd\n",
    "\n",
    "import yaml"
   ]
  },
  {
   "cell_type": "code",
   "execution_count": null,
   "id": "4307cdf1-c9ab-4e71-987c-b26757018c35",
   "metadata": {
    "tags": []
   },
   "outputs": [],
   "source": [
    "with open(\"config.yaml\") as f:\n",
    "    config = yaml.safe_load(f)\n",
    "    \n",
    "orf1ab_to_nsps = config[\"orf1ab_to_nsps\"]\n",
    "\n",
    "clade_synonyms = config[\"clade_synonyms\"]"
   ]
  },
  {
   "cell_type": "markdown",
   "id": "2524ef56-4f29-4816-92a4-5d89e5fdbeae",
   "metadata": {},
   "source": [
    "Get protein sequences for all genes:"
   ]
  },
  {
   "cell_type": "code",
   "execution_count": null,
   "id": "333a20b1-1b52-41a9-87c2-e556e36f0ed6",
   "metadata": {
    "tags": []
   },
   "outputs": [],
   "source": [
    "clades_of_interest = pd.read_csv(rates_by_clade_csv)[\"clade\"].unique().tolist()\n",
    "\n",
    "clade_founder_seqs = (\n",
    "    pd.read_csv(clade_founder_nts_csv)\n",
    "    .query(\"clade in @clades_of_interest\")\n",
    "    .assign(gene=lambda x: x[\"gene\"].str.split(\";\"))\n",
    "    .explode(\"gene\")\n",
    "    .sort_values([\"clade\", \"gene\", \"site\"])\n",
    "    .groupby([\"clade\", \"gene\"], as_index=False)\n",
    "    .aggregate(gene_seq=pd.NamedAgg(\"nt\", lambda s: \"\".join(s)))\n",
    "    .assign(\n",
    "        prot_seq=lambda x: x[\"gene_seq\"].map(\n",
    "            lambda s: str(Bio.Seq.Seq(s).translate())\n",
    "        )\n",
    "    )\n",
    ")\n",
    "\n",
    "assert all(\n",
    "    clade_founder_seqs[\"gene_seq\"].map(len)\n",
    "    == 3 * clade_founder_seqs[\"prot_seq\"].map(len)\n",
    ")\n",
    "\n",
    "clade_founder_seqs"
   ]
  },
  {
   "cell_type": "markdown",
   "id": "5b9bfab9-5212-446d-aa29-882eb8605c15",
   "metadata": {
    "execution": {
     "iopub.execute_input": "2022-11-01T14:27:17.907330Z",
     "iopub.status.busy": "2022-11-01T14:27:17.905892Z",
     "iopub.status.idle": "2022-11-01T14:27:17.918779Z",
     "shell.execute_reply": "2022-11-01T14:27:17.917533Z",
     "shell.execute_reply.started": "2022-11-01T14:27:17.907254Z"
    }
   },
   "source": [
    "Get amino-acid mutations between each pair of clades:"
   ]
  },
  {
   "cell_type": "code",
   "execution_count": null,
   "id": "1ff6b55f-bee3-4cd8-b7f7-8f835d3b62e5",
   "metadata": {
    "tags": []
   },
   "outputs": [],
   "source": [
    "def get_muts(row):\n",
    "    assert len(row[\"prot_seq_1\"]) == len(row[\"prot_seq_2\"])\n",
    "    return [\n",
    "        f\"{x1}{r + 1}{x2}\"\n",
    "        for r, (x1, x2) in enumerate(zip(row[\"prot_seq_1\"], row[\"prot_seq_2\"]))\n",
    "        if x1 != x2\n",
    "    ]\n",
    "\n",
    "aa_muts_df = []\n",
    "\n",
    "for clade_1, clade_2 in itertools.product(\n",
    "    clade_founder_seqs[\"clade\"].unique(), clade_founder_seqs[\"clade\"].unique(),\n",
    "):\n",
    "    aa_muts_df.append(\n",
    "        clade_founder_seqs\n",
    "        .query(\"clade == @clade_1\")\n",
    "        .merge(\n",
    "            clade_founder_seqs.query(\"clade == @clade_2\"),\n",
    "            on=\"gene\",\n",
    "            suffixes=[\"_1\", \"_2\"],\n",
    "        )\n",
    "        .assign(mutations=lambda x: x.apply(get_muts, axis=1))\n",
    "        [[\"clade_1\", \"clade_2\", \"gene\", \"mutations\"]]\n",
    "    )\n",
    "\n",
    "aa_muts_df = pd.concat(aa_muts_df, ignore_index=True)\n",
    "\n",
    "aa_muts_df"
   ]
  },
  {
   "cell_type": "markdown",
   "id": "4e167ff8-425e-4217-8591-b1fd72a95ced",
   "metadata": {},
   "source": [
    "Assign ORF1ab to Nsp mutations:"
   ]
  },
  {
   "cell_type": "code",
   "execution_count": null,
   "id": "2a4dc9f1-aae6-4931-9c98-6d584a0c2a14",
   "metadata": {
    "tags": []
   },
   "outputs": [],
   "source": [
    "aa_muts_nsp_df = (\n",
    "    aa_muts_df\n",
    "    .explode(\"mutations\")\n",
    "    .query(\"mutations.notnull()\")\n",
    ")\n",
    "\n",
    "# only keep ORF1ab mutations as ORF1a is subset of those\n",
    "assert set(aa_muts_nsp_df.query(\"gene == 'ORF1a'\")[\"mutations\"]).issubset(\n",
    "    aa_muts_nsp_df.query(\"gene == 'ORF1ab'\")[\"mutations\"])\n",
    "\n",
    "def gene_mutation(row):\n",
    "    gene = row[\"gene\"]\n",
    "    mutation = row[\"mutations\"]\n",
    "    if gene == \"ORF1ab\":\n",
    "        r = int(mutation[1: -1])\n",
    "        for nsp, nsp_start in orf1ab_to_nsps.items():\n",
    "            if r < nsp_start:\n",
    "                mutation = f\"{mutation[0]}{r - last_nsp_start + 1}{mutation[-1]}\"\n",
    "                gene = last_nsp\n",
    "                break\n",
    "            last_nsp = nsp\n",
    "            last_nsp_start = nsp_start\n",
    "        else:\n",
    "            mutation = f\"{mutation[0]}{r - last_nsp_start + 1}{mutation[-1]}\"\n",
    "            gene = last_nsp\n",
    "    return f\"{gene} {mutation}\"\n",
    "\n",
    "aa_muts_nsp_df = (\n",
    "    aa_muts_nsp_df\n",
    "    .query(\"gene != 'ORF1a'\")\n",
    "    .assign(\n",
    "        gene_mutation=lambda x: x.apply(gene_mutation, axis=1),\n",
    "        gene=lambda x: x[\"gene_mutation\"].str.split().str[0],\n",
    "        mutation=lambda x: x[\"gene_mutation\"].str.split().str[1],\n",
    "    )\n",
    "    .drop(columns=\"mutations\")\n",
    ")\n",
    "\n",
    "aa_muts_nsp_df"
   ]
  },
  {
   "cell_type": "markdown",
   "id": "5b2f2193-4c54-4209-b21d-89afcb64448c",
   "metadata": {},
   "source": [
    "Get non-spike mutations relative to first clade:"
   ]
  },
  {
   "cell_type": "code",
   "execution_count": null,
   "id": "03ec435c-710e-471e-8b63-a6a1e5acd176",
   "metadata": {
    "tags": []
   },
   "outputs": [],
   "source": [
    "ref_clade = clades_of_interest[0]\n",
    "print(f\"Getting mutations relative to {ref_clade}\")\n",
    "\n",
    "non_spike_muts = (\n",
    "    aa_muts_nsp_df\n",
    "    .query(\"gene != 'S'\")\n",
    "    .query(\"clade_1 == @ref_clade\")\n",
    "    .rename(columns={\"clade_2\": \"clade\"})\n",
    "    .groupby([\"clade\", \"gene\"], as_index=False)\n",
    "    .aggregate(mutations=pd.NamedAgg(\"mutation\", lambda s: \", \".join(s)))\n",
    "    .assign(gene_mutations=lambda x: x[\"gene\"] + \": \" + x[\"mutations\"])\n",
    "    .groupby(\"clade\", as_index=False)\n",
    "    .aggregate(gene_mutations=pd.NamedAgg(\"gene_mutations\", lambda s: \"; \".join(s)))\n",
    "    .assign(clade=lambda x: x[\"clade\"].map(lambda c: f\"{c} ({clade_synonyms[c]})\"))\n",
    ")\n",
    "\n",
    "os.makedirs(os.path.dirname(output_csv), exist_ok=True)\n",
    "non_spike_muts.to_csv(output_csv, index=False, sep=\"\\t\")\n",
    "\n",
    "pd.options.display.max_colwidth = 300\n",
    "\n",
    "non_spike_muts"
   ]
  }
 ],
 "metadata": {
  "kernelspec": {
   "display_name": "Python 3 (ipykernel)",
   "language": "python",
   "name": "python3"
  },
  "language_info": {
   "codemirror_mode": {
    "name": "ipython",
    "version": 3
   },
   "file_extension": ".py",
   "mimetype": "text/x-python",
   "name": "python",
   "nbconvert_exporter": "python",
   "pygments_lexer": "ipython3",
   "version": "3.9.13"
  }
 },
 "nbformat": 4,
 "nbformat_minor": 5
}
