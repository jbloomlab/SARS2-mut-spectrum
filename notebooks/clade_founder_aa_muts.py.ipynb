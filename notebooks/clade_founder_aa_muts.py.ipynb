{
 "cells": [
  {
   "cell_type": "markdown",
   "id": "4b0d4356-4f56-48fb-9c76-cb71991d087c",
   "metadata": {},
   "source": [
    "# Get amino-acid mutations in clade founders"
   ]
  },
  {
   "cell_type": "code",
   "execution_count": 2,
   "id": "568e5c04-c31c-47b3-bc5f-4fc5e9348283",
   "metadata": {},
   "outputs": [],
   "source": [
    "# input files\n",
    "clade_founder_nts_csv = \"../results/clade_founder_nts/clade_founder_nts.csv\""
   ]
  },
  {
   "cell_type": "code",
   "execution_count": 1,
   "id": "8139ee45-5cae-434e-a5e8-d4226f154753",
   "metadata": {},
   "outputs": [],
   "source": [
    "import Bio.SeqIO\n",
    "\n",
    "import pandas as pd"
   ]
  },
  {
   "cell_type": "code",
   "execution_count": 9,
   "id": "333a20b1-1b52-41a9-87c2-e556e36f0ed6",
   "metadata": {},
   "outputs": [
    {
     "data": {
      "text/html": [
       "<div>\n",
       "<style scoped>\n",
       "    .dataframe tbody tr th:only-of-type {\n",
       "        vertical-align: middle;\n",
       "    }\n",
       "\n",
       "    .dataframe tbody tr th {\n",
       "        vertical-align: top;\n",
       "    }\n",
       "\n",
       "    .dataframe thead th {\n",
       "        text-align: right;\n",
       "    }\n",
       "</style>\n",
       "<table border=\"1\" class=\"dataframe\">\n",
       "  <thead>\n",
       "    <tr style=\"text-align: right;\">\n",
       "      <th></th>\n",
       "      <th>clade</th>\n",
       "      <th>gene</th>\n",
       "      <th>gene_seq</th>\n",
       "    </tr>\n",
       "  </thead>\n",
       "  <tbody>\n",
       "    <tr>\n",
       "      <th>0</th>\n",
       "      <td>19A</td>\n",
       "      <td>E</td>\n",
       "      <td>ATGTACTCATTCGTTTCGGAAGAGACAGGTACGTTAATAGTTAATA...</td>\n",
       "    </tr>\n",
       "    <tr>\n",
       "      <th>1</th>\n",
       "      <td>19A</td>\n",
       "      <td>M</td>\n",
       "      <td>ATGGCAGATTCCAACGGTACTATTACCGTTGAAGAGCTTAAAAAGC...</td>\n",
       "    </tr>\n",
       "    <tr>\n",
       "      <th>2</th>\n",
       "      <td>19A</td>\n",
       "      <td>N</td>\n",
       "      <td>ATGTCTGATAATGGACCCCAAAATCAGCGAAATGCACCCCGCATTA...</td>\n",
       "    </tr>\n",
       "    <tr>\n",
       "      <th>3</th>\n",
       "      <td>19A</td>\n",
       "      <td>ORF10</td>\n",
       "      <td>ATGGGCTATATAAACGTTTTCGCTTTTCCGTTTACGATATATAGTC...</td>\n",
       "    </tr>\n",
       "    <tr>\n",
       "      <th>4</th>\n",
       "      <td>19A</td>\n",
       "      <td>ORF1a</td>\n",
       "      <td>ATGGAGAGCCTTGTCCCTGGTTTCAACGAGAAAACACACGTCCAAC...</td>\n",
       "    </tr>\n",
       "    <tr>\n",
       "      <th>...</th>\n",
       "      <td>...</td>\n",
       "      <td>...</td>\n",
       "      <td>...</td>\n",
       "    </tr>\n",
       "    <tr>\n",
       "      <th>223</th>\n",
       "      <td>22C</td>\n",
       "      <td>ORF6</td>\n",
       "      <td>ATGTTTCATCTCGTTGACTTTCAGGTTACTATAGCAGAGATATTAC...</td>\n",
       "    </tr>\n",
       "    <tr>\n",
       "      <th>224</th>\n",
       "      <td>22C</td>\n",
       "      <td>ORF7a</td>\n",
       "      <td>ATGAAAATTATTCTTTTCTTGGCACTGATAACACTCGCTACTTGTG...</td>\n",
       "    </tr>\n",
       "    <tr>\n",
       "      <th>225</th>\n",
       "      <td>22C</td>\n",
       "      <td>ORF7b</td>\n",
       "      <td>ATGATTGAACTTTCATTAATTGACTTCTATTTGTGCTTTTTAGCCT...</td>\n",
       "    </tr>\n",
       "    <tr>\n",
       "      <th>226</th>\n",
       "      <td>22C</td>\n",
       "      <td>ORF8</td>\n",
       "      <td>ATGAAATTTCTTGTTTTCTTAGGAATCATCACAACTGTAGCTGCAT...</td>\n",
       "    </tr>\n",
       "    <tr>\n",
       "      <th>227</th>\n",
       "      <td>22C</td>\n",
       "      <td>S</td>\n",
       "      <td>ATGTTTGTTTTTCTTGTTTTATTGCCACTAGTCTCTAGTCAGTGTG...</td>\n",
       "    </tr>\n",
       "  </tbody>\n",
       "</table>\n",
       "<p>228 rows × 3 columns</p>\n",
       "</div>"
      ],
      "text/plain": [
       "    clade   gene                                           gene_seq\n",
       "0     19A      E  ATGTACTCATTCGTTTCGGAAGAGACAGGTACGTTAATAGTTAATA...\n",
       "1     19A      M  ATGGCAGATTCCAACGGTACTATTACCGTTGAAGAGCTTAAAAAGC...\n",
       "2     19A      N  ATGTCTGATAATGGACCCCAAAATCAGCGAAATGCACCCCGCATTA...\n",
       "3     19A  ORF10  ATGGGCTATATAAACGTTTTCGCTTTTCCGTTTACGATATATAGTC...\n",
       "4     19A  ORF1a  ATGGAGAGCCTTGTCCCTGGTTTCAACGAGAAAACACACGTCCAAC...\n",
       "..    ...    ...                                                ...\n",
       "223   22C   ORF6  ATGTTTCATCTCGTTGACTTTCAGGTTACTATAGCAGAGATATTAC...\n",
       "224   22C  ORF7a  ATGAAAATTATTCTTTTCTTGGCACTGATAACACTCGCTACTTGTG...\n",
       "225   22C  ORF7b  ATGATTGAACTTTCATTAATTGACTTCTATTTGTGCTTTTTAGCCT...\n",
       "226   22C   ORF8  ATGAAATTTCTTGTTTTCTTAGGAATCATCACAACTGTAGCTGCAT...\n",
       "227   22C      S  ATGTTTGTTTTTCTTGTTTTATTGCCACTAGTCTCTAGTCAGTGTG...\n",
       "\n",
       "[228 rows x 3 columns]"
      ]
     },
     "execution_count": 9,
     "metadata": {},
     "output_type": "execute_result"
    }
   ],
   "source": [
    "clade_founder_seqs = (\n",
    "    pd.read_csv(clade_founder_nts_csv)\n",
    "    .assign(gene=lambda x: x[\"gene\"].str.split(\";\"))\n",
    "    .explode(\"gene\")\n",
    "    .sort_values([\"clade\", \"gene\", \"site\"])\n",
    "    .groupby([\"clade\", \"gene\"], as_index=False)\n",
    "    .aggregate(gene_seq=pd.NamedAgg(\"nt\", lambda s: \"\".join(s)))\n",
    ")\n",
    "\n",
    "clade_founder_seqs"
   ]
  },
  {
   "cell_type": "code",
   "execution_count": null,
   "id": "dd4abb0f-4ed0-4617-92fe-027d0ca11c23",
   "metadata": {},
   "outputs": [],
   "source": []
  }
 ],
 "metadata": {
  "kernelspec": {
   "display_name": "Python 3 (ipykernel)",
   "language": "python",
   "name": "python3"
  },
  "language_info": {
   "codemirror_mode": {
    "name": "ipython",
    "version": 3
   },
   "file_extension": ".py",
   "mimetype": "text/x-python",
   "name": "python",
   "nbconvert_exporter": "python",
   "pygments_lexer": "ipython3",
   "version": "3.9.13"
  }
 },
 "nbformat": 4,
 "nbformat_minor": 5
}
